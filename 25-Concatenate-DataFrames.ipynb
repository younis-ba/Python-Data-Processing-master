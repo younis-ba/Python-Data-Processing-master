{
 "cells": [
  {
   "cell_type": "code",
   "execution_count": 28,
   "metadata": {
    "collapsed": true
   },
   "outputs": [],
   "source": [
    "import pandas as pd"
   ]
  },
  {
   "cell_type": "code",
   "execution_count": 29,
   "metadata": {
    "collapsed": false
   },
   "outputs": [],
   "source": [
    "raw_data1 = {\n",
    "    'id': [1,2,3,4,5],\n",
    "    'city': ['Tripoli', 'London', 'Rome', 'Cairo', 'Sydney'], \n",
    "    'rank': ['1st', '2nd', '3rd', '4th', '5th'], \n",
    "    'population': ['2M', '10M', '1M', '20M', '3M']\n",
    "}\n",
    "df1 = pd.DataFrame(raw_data1, columns = ['id', 'city', 'rank', 'population'])"
   ]
  },
  {
   "cell_type": "code",
   "execution_count": 30,
   "metadata": {
    "collapsed": false
   },
   "outputs": [],
   "source": [
    "raw_data2 = {\n",
    "    'id': [6,7,8,9],\n",
    "    'city': ['Lisbon', 'Tokyo', 'Mecca', 'Berlin'], \n",
    "    'rank': ['19th', '22nd', '33rd', '40th'], \n",
    "    'population': ['1M', '9M', '0.8M', '7M']\n",
    "}\n",
    "df2 = pd.DataFrame(raw_data2, columns = ['id', 'city', 'rank', 'population'])"
   ]
  },
  {
   "cell_type": "code",
   "execution_count": 31,
   "metadata": {
    "collapsed": false
   },
   "outputs": [],
   "source": [
    "raw_data3 = {\n",
    "    'id': [1,4,8,9],\n",
    "    'city': ['Milano', 'Beijing', 'Addis Ababa','Belfast'], \n",
    "    'rank': ['7th', '6th', '212t', '11th']\n",
    "}\n",
    "df3 = pd.DataFrame(raw_data3, columns = ['id', 'city', 'rank'])"
   ]
  },
  {
   "cell_type": "code",
   "execution_count": null,
   "metadata": {
    "collapsed": false
   },
   "outputs": [],
   "source": []
  },
  {
   "cell_type": "code",
   "execution_count": 45,
   "metadata": {
    "collapsed": false
   },
   "outputs": [
    {
     "data": {
      "text/plain": [
       "'2nd'"
      ]
     },
     "execution_count": 45,
     "metadata": {},
     "output_type": "execute_result"
    }
   ],
   "source": [
    "# concatenate -> join the two dataframes along the rows \n",
    "new_df = pd.concat([df1, df2],ignore_index=True)\n"
   ]
  },
  {
   "cell_type": "code",
   "execution_count": 38,
   "metadata": {
    "collapsed": false
   },
   "outputs": [
    {
     "data": {
      "text/html": [
       "<div>\n",
       "<table border=\"1\" class=\"dataframe\">\n",
       "  <thead>\n",
       "    <tr style=\"text-align: right;\">\n",
       "      <th></th>\n",
       "      <th>id</th>\n",
       "      <th>city</th>\n",
       "      <th>rank</th>\n",
       "      <th>population</th>\n",
       "      <th>id</th>\n",
       "      <th>city</th>\n",
       "      <th>rank</th>\n",
       "      <th>population</th>\n",
       "    </tr>\n",
       "  </thead>\n",
       "  <tbody>\n",
       "    <tr>\n",
       "      <th>0</th>\n",
       "      <td>1</td>\n",
       "      <td>Tripoli</td>\n",
       "      <td>1st</td>\n",
       "      <td>2M</td>\n",
       "      <td>6.0</td>\n",
       "      <td>Lisbon</td>\n",
       "      <td>19th</td>\n",
       "      <td>1M</td>\n",
       "    </tr>\n",
       "    <tr>\n",
       "      <th>1</th>\n",
       "      <td>2</td>\n",
       "      <td>London</td>\n",
       "      <td>2nd</td>\n",
       "      <td>10M</td>\n",
       "      <td>7.0</td>\n",
       "      <td>Tokyo</td>\n",
       "      <td>22nd</td>\n",
       "      <td>9M</td>\n",
       "    </tr>\n",
       "    <tr>\n",
       "      <th>2</th>\n",
       "      <td>3</td>\n",
       "      <td>Rome</td>\n",
       "      <td>3rd</td>\n",
       "      <td>1M</td>\n",
       "      <td>8.0</td>\n",
       "      <td>Mecca</td>\n",
       "      <td>33rd</td>\n",
       "      <td>0.8M</td>\n",
       "    </tr>\n",
       "    <tr>\n",
       "      <th>3</th>\n",
       "      <td>4</td>\n",
       "      <td>Cairo</td>\n",
       "      <td>4th</td>\n",
       "      <td>20M</td>\n",
       "      <td>9.0</td>\n",
       "      <td>Berlin</td>\n",
       "      <td>40th</td>\n",
       "      <td>7M</td>\n",
       "    </tr>\n",
       "    <tr>\n",
       "      <th>4</th>\n",
       "      <td>5</td>\n",
       "      <td>Sydney</td>\n",
       "      <td>5th</td>\n",
       "      <td>3M</td>\n",
       "      <td>NaN</td>\n",
       "      <td>NaN</td>\n",
       "      <td>NaN</td>\n",
       "      <td>NaN</td>\n",
       "    </tr>\n",
       "  </tbody>\n",
       "</table>\n",
       "</div>"
      ],
      "text/plain": [
       "   id     city rank population   id    city  rank population\n",
       "0   1  Tripoli  1st         2M  6.0  Lisbon  19th         1M\n",
       "1   2   London  2nd        10M  7.0   Tokyo  22nd         9M\n",
       "2   3     Rome  3rd         1M  8.0   Mecca  33rd       0.8M\n",
       "3   4    Cairo  4th        20M  9.0  Berlin  40th         7M\n",
       "4   5   Sydney  5th         3M  NaN     NaN   NaN        NaN"
      ]
     },
     "execution_count": 38,
     "metadata": {},
     "output_type": "execute_result"
    }
   ],
   "source": [
    "# concatenate -> join the two dataframes along the columns \n",
    "new_df1 = pd.concat([df1, df2],axis=1)\n",
    "new_df1"
   ]
  },
  {
   "cell_type": "code",
   "execution_count": null,
   "metadata": {
    "collapsed": false
   },
   "outputs": [],
   "source": []
  },
  {
   "cell_type": "code",
   "execution_count": null,
   "metadata": {
    "collapsed": false
   },
   "outputs": [],
   "source": []
  },
  {
   "cell_type": "code",
   "execution_count": null,
   "metadata": {
    "collapsed": false
   },
   "outputs": [],
   "source": []
  },
  {
   "cell_type": "code",
   "execution_count": null,
   "metadata": {
    "collapsed": false
   },
   "outputs": [],
   "source": []
  },
  {
   "cell_type": "code",
   "execution_count": 23,
   "metadata": {
    "collapsed": false
   },
   "outputs": [],
   "source": [
    "#pd.merge(new_df,df3,on='id')"
   ]
  },
  {
   "cell_type": "code",
   "execution_count": null,
   "metadata": {
    "collapsed": true
   },
   "outputs": [],
   "source": []
  }
 ],
 "metadata": {
  "anaconda-cloud": {},
  "kernelspec": {
   "display_name": "Python 3",
   "language": "python",
   "name": "python3"
  },
  "language_info": {
   "codemirror_mode": {
    "name": "ipython",
    "version": 3
   },
   "file_extension": ".py",
   "mimetype": "text/x-python",
   "name": "python",
   "nbconvert_exporter": "python",
   "pygments_lexer": "ipython3",
   "version": "3.5.2"
  }
 },
 "nbformat": 4,
 "nbformat_minor": 1
}
